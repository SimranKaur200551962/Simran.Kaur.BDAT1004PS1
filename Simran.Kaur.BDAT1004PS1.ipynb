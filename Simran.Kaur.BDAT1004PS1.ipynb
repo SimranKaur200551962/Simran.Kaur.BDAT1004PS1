{
 "cells": [
  {
   "cell_type": "markdown",
   "id": "6a24c33d",
   "metadata": {},
   "source": [
    "# BDAT1004- Data Programming\n",
    "## Problem Set 1\n",
    "### Question 1"
   ]
  },
  {
   "cell_type": "markdown",
   "id": "cc706fd7",
   "metadata": {},
   "source": [
    "What data type is each of the following (evaluate where necessary)?"
   ]
  },
  {
   "cell_type": "code",
   "execution_count": 34,
   "id": "d71396fc",
   "metadata": {},
   "outputs": [
    {
     "name": "stdout",
     "output_type": "stream",
     "text": [
      "<class 'int'>\n",
      "<class 'float'>\n",
      "<class 'bool'>\n",
      "<class 'str'>\n",
      "<class 'int'>\n",
      "<class 'str'>\n",
      "<class 'str'>\n",
      "<class 'float'>\n",
      "<class 'int'>\n",
      "<class 'set'>\n",
      "<class 'bool'>\n",
      "<class 'float'>\n",
      "pi is a mathematical value, to call it we have to import a python libray called math.\n"
     ]
    }
   ],
   "source": [
    "import math\n",
    "a= 5 \n",
    "b= 5.0\n",
    "c= 5 > 1\n",
    "d= '5'\n",
    "e= 5 * 2\n",
    "f= '5' * 2\n",
    "g= '5' + '2'\n",
    "h= 5 / 2\n",
    "i= 5 % 2\n",
    "j= {5, 2, 1}\n",
    "k= 5 == 3\n",
    "l= math.pi\n",
    "print(type(a))            \n",
    "print(type(b)) \n",
    "print(type(c)) \n",
    "print(type(d)) \n",
    "print(type(e)) \n",
    "print(type(f)) \n",
    "print(type(g)) \n",
    "print(type(h)) \n",
    "print(type(i)) \n",
    "print(type(j)) \n",
    "print(type(k)) \n",
    "print(type(l))  \n",
    "print('pi is a mathematical value, to call it we have to import a python libray called math.')"
   ]
  },
  {
   "cell_type": "markdown",
   "id": "e26e28c6",
   "metadata": {},
   "source": [
    "### Question 2"
   ]
  },
  {
   "cell_type": "markdown",
   "id": "6836b737",
   "metadata": {},
   "source": [
    "Write (and evaluate) python expressions that answer these questions:                          \n",
    "a. How many letters are there in \n",
    "'Supercalifragilisticexpialidocious'?"
   ]
  },
  {
   "cell_type": "code",
   "execution_count": 7,
   "id": "aac9cb2f",
   "metadata": {},
   "outputs": [
    {
     "name": "stdout",
     "output_type": "stream",
     "text": [
      "34\n"
     ]
    }
   ],
   "source": [
    "print(len('Supercalifragilisticexpialidocious'))"
   ]
  },
  {
   "cell_type": "markdown",
   "id": "dcfb7dba",
   "metadata": {},
   "source": [
    "b. Does 'Supercalifragilisticexpialidocious' contain 'ice' as a substring?"
   ]
  },
  {
   "cell_type": "code",
   "execution_count": 103,
   "id": "bbcf6966",
   "metadata": {},
   "outputs": [
    {
     "name": "stdout",
     "output_type": "stream",
     "text": [
      "True\n"
     ]
    }
   ],
   "source": [
    "str='Supercalifragilisticexpialidocious'\n",
    "print('ice' in str)"
   ]
  },
  {
   "cell_type": "markdown",
   "id": "186e53b8",
   "metadata": {},
   "source": [
    "c. Which of the following words is the longest: \n",
    "Supercalifragilisticexpialidocious, Honorificabilitudinitatibus, or \n",
    "Bababadalgharaghtakamminarronnkonn? "
   ]
  },
  {
   "cell_type": "code",
   "execution_count": 14,
   "id": "5f0c2654",
   "metadata": {},
   "outputs": [
    {
     "name": "stdout",
     "output_type": "stream",
     "text": [
      "34\n",
      "34\n",
      "27\n",
      "Supercalifragilisticexpialidocious\n"
     ]
    }
   ],
   "source": [
    "a = 'Supercalifragilisticexpialidocious'\n",
    "b = 'Honorificabilitudinitatibus'\n",
    "c = 'Bababadalgharaghtakamminarronnkonn'\n",
    "print(len('Bababadalgharaghtakamminarronnkonn'))\n",
    "print(len('Supercalifragilisticexpialidocious'))\n",
    "print(len('Honorificabilitudinitatibus'))\n",
    "print(max(a,b,c))"
   ]
  },
  {
   "cell_type": "markdown",
   "id": "e8c7a893",
   "metadata": {},
   "source": [
    "d. Which composer comes first in the dictionary: 'Berlioz', 'Borodin', 'Brian', \n",
    "'Bartok', 'Bellini', 'Buxtehude', 'Bernstein'. Which one comes last?"
   ]
  },
  {
   "cell_type": "code",
   "execution_count": 68,
   "id": "d914214c",
   "metadata": {},
   "outputs": [
    {
     "name": "stdout",
     "output_type": "stream",
     "text": [
      "['Bartok', 'Bellini', 'Berlioz', 'Bernstein', 'Borodin', 'Brian', 'Buxtehude']\n",
      "Bartok\n",
      "Buxtehude\n"
     ]
    }
   ],
   "source": [
    "composer = ['Berlioz', 'Borodin', 'Brian', 'Bartok', 'Bellini', 'Buxtehude', 'Bernstein']\n",
    "print(lst)\n",
    "lst.sort()\n",
    "print(lst[0])        # first in the list\n",
    "print(lst[-1])       # last in the list\n"
   ]
  },
  {
   "cell_type": "markdown",
   "id": "70cfec69",
   "metadata": {},
   "source": [
    "### Question 3"
   ]
  },
  {
   "cell_type": "markdown",
   "id": "36dd81d0",
   "metadata": {},
   "source": [
    "Implement function triangleArea(a,b,c) that takes as input the lengths of the 3\n",
    "sides of a triangle and returns the area of the triangle. By Heron's formula, the area \n",
    "of a triangle with side lengths a, b, and c is\n",
    "s(s - a)(s -b)(s -c)\n",
    ", where \n",
    "s = (a+b+c)/2. \n",
    "                                                      \n",
    "'>>> triangleArea(2,2,2)                \n",
    "1.7320508075688772\n"
   ]
  },
  {
   "cell_type": "code",
   "execution_count": 15,
   "id": "ee413f21",
   "metadata": {},
   "outputs": [
    {
     "data": {
      "text/plain": [
       "1.7320508075688772"
      ]
     },
     "execution_count": 15,
     "metadata": {},
     "output_type": "execute_result"
    }
   ],
   "source": [
    "import math\n",
    "def  triangleArea(a,b,c):\n",
    "    s = (a + b + c) / 2\n",
    "    area = math.sqrt(s * (s - a) * (s - b) * (s - c))\n",
    "    return area\n",
    "triangleArea(2,2,2)\n",
    "    "
   ]
  },
  {
   "cell_type": "markdown",
   "id": "ade385c4",
   "metadata": {},
   "source": [
    "### Question 4"
   ]
  },
  {
   "cell_type": "markdown",
   "id": "cb4c83ca",
   "metadata": {},
   "source": [
    "Write a program in python to separate odd and even integers in separate arrays. Go to the editor                          \n",
    "Test Data :                             \n",
    "Input the number of elements to be stored in the array :5    \n",
    "Input 5 elements in the array :                     \n",
    "element - 0 : 25                                               \n",
    "element - 1 : 47                         \n",
    "element - 2 : 42                  \n",
    "element - 3 : 56                        \n",
    "element - 4 : 32                        \n",
    "Expected Output:                                  \n",
    "The Even elements are:                                         \n",
    "42 56 32                                                       \n",
    "The Odd elements are :                                         \n",
    "25 47\n"
   ]
  },
  {
   "cell_type": "code",
   "execution_count": 4,
   "id": "d4a6ed68",
   "metadata": {},
   "outputs": [
    {
     "name": "stdout",
     "output_type": "stream",
     "text": [
      "Input the number of elements to be stored in the array: 5\n",
      "Input elements in the array: \n",
      "25\n",
      "47\n",
      "42\n",
      "56\n",
      "32\n",
      "The Even elements are:  [42, 56, 32]\n",
      "The Odd elements are:  [25, 47]\n"
     ]
    }
   ],
   "source": [
    "L=list()\n",
    "n=int(input('Input the number of elements to be stored in the array: '))\n",
    "print('Input elements in the array: ')\n",
    "for i in range(int(n)):\n",
    "    y=int(input(''))\n",
    "    L.append(y)\n",
    "even_odd(L) \n",
    "\n",
    "def even_odd(L): \n",
    "    even = [] \n",
    "    odd = [] \n",
    "    for i in L: \n",
    "        if (i % 2 == 0): \n",
    "            even.append(i) \n",
    "        else: \n",
    "            odd.append(i) \n",
    "    print(\"The Even elements are: \", even) \n",
    "    print(\"The Odd elements are: \", odd) "
   ]
  },
  {
   "cell_type": "markdown",
   "id": "6f51f517",
   "metadata": {},
   "source": [
    "### Question 5"
   ]
  },
  {
   "cell_type": "markdown",
   "id": "510e0456",
   "metadata": {},
   "source": [
    "a. Write a function inside(x,y,x1,y1,x2,y2) that returns True or False depending on whether the point (x,y) lies in the rectangle with lower left corner (x1,y1) and upper right corner (x2,y2).\n",
    "\n",
    "  inside(1,1,0,0,2,3)                                          \n",
    "True\n",
    "\n",
    "  inside(-1,-1,0,0,2,3)                                      \n",
    "False"
   ]
  },
  {
   "cell_type": "code",
   "execution_count": 58,
   "id": "3ec64267",
   "metadata": {},
   "outputs": [
    {
     "data": {
      "text/plain": [
       "True"
      ]
     },
     "execution_count": 58,
     "metadata": {},
     "output_type": "execute_result"
    }
   ],
   "source": [
    "def inside(x, y, x1, y1, x2, y2) :\n",
    "    if (x > x1 and x < x2 and y > y1 and y < y2) :\n",
    "        return True\n",
    "    else :\n",
    "        return False    \n",
    "inside(1,1,0,0,2,3)\n"
   ]
  },
  {
   "cell_type": "code",
   "execution_count": 59,
   "id": "baedbe78",
   "metadata": {},
   "outputs": [
    {
     "data": {
      "text/plain": [
       "False"
      ]
     },
     "execution_count": 59,
     "metadata": {},
     "output_type": "execute_result"
    }
   ],
   "source": [
    "inside(-1,-1,0,0,2,3)"
   ]
  },
  {
   "cell_type": "markdown",
   "id": "cd6f03a6",
   "metadata": {},
   "source": [
    "b. Use function inside() from part a. to write an expression that tests whether the point (1,1) lies in both of the following rectangles: one with lower left corner (0.3, 0.5) and upper right corner (1.1, 0.7) and the other with lower left corner (0.5, 0.2) and upper right corner (1.1, 2)"
   ]
  },
  {
   "cell_type": "code",
   "execution_count": 14,
   "id": "3dd1e11b",
   "metadata": {},
   "outputs": [
    {
     "data": {
      "text/plain": [
       "True"
      ]
     },
     "execution_count": 14,
     "metadata": {},
     "output_type": "execute_result"
    }
   ],
   "source": [
    "def inside(x, y) :\n",
    "    if (x > 0.3 and x > 0.5 and x < 1.1 and x < 1.1) :\n",
    "        return True\n",
    "    else :\n",
    "        return False\n",
    "inside(1,1)"
   ]
  },
  {
   "cell_type": "markdown",
   "id": "e98ff574",
   "metadata": {},
   "source": [
    "### Question 6"
   ]
  },
  {
   "cell_type": "markdown",
   "id": "c5c67835",
   "metadata": {},
   "source": [
    " You can turn a word into pig-Latin using the following two rules (simplified):\n",
    "• If the word starts with a consonant, move that letter to the end and append \n",
    "'ay'. For example, 'happy' becomes 'appyhay' and 'pencil' becomes 'encilpay'.\n",
    "• If the word starts with a vowel, simply append 'way' to the end of the word. \n",
    "For example, 'enter' becomes 'enterway' and 'other' becomes 'otherway' . For \n",
    "our purposes, there are 5 vowels: a, e, i, o, u (so we count y as a consonant).\n",
    "Write a function pig() that takes a word (i.e., a string) as input and returns its pig Latin form. Your function should still work if the input word contains upper case \n",
    "characters. Your output should always be lower case however.   \n",
    " pig('happy')                                                \n",
    "'appyhay'                                                      \n",
    " pig('Enter')                                                 \n",
    "'enterway' "
   ]
  },
  {
   "cell_type": "code",
   "execution_count": 49,
   "id": "52dbf587",
   "metadata": {},
   "outputs": [
    {
     "data": {
      "text/plain": [
       "'appyhay'"
      ]
     },
     "execution_count": 49,
     "metadata": {},
     "output_type": "execute_result"
    }
   ],
   "source": [
    "def pig(word):\n",
    "    vowels = 'aeiou'\n",
    "    word = word.lower() \n",
    "\n",
    "    if word[0] in vowels: \n",
    "        return word + 'way'\n",
    "    else:  \n",
    "        return word[1:] + word[0] + 'ay'\n",
    "pig('Happy')"
   ]
  },
  {
   "cell_type": "code",
   "execution_count": 50,
   "id": "d8a808fe",
   "metadata": {},
   "outputs": [
    {
     "data": {
      "text/plain": [
       "'enterway'"
      ]
     },
     "execution_count": 50,
     "metadata": {},
     "output_type": "execute_result"
    }
   ],
   "source": [
    "pig('enter')"
   ]
  },
  {
   "cell_type": "markdown",
   "id": "8a9c81c4",
   "metadata": {},
   "source": [
    "### Question 7"
   ]
  },
  {
   "cell_type": "markdown",
   "id": "58395eb4",
   "metadata": {},
   "source": [
    "File bloodtype1.txt records blood-types of patients (A, B, AB, O or OO) at a clinic. \n",
    "Write a function bldcount() that reads the file with name name and reports (i.e., \n",
    "prints) how many patients there are in each bloodtype.\n",
    "\n",
    "bldcount('bloodtype.txt')                                 \n",
    "There are 10 patients of blood type A.                   \n",
    "There is one patient of blood type B.                     \n",
    "There are 10 patients of blood type AB.                  \n",
    "There are 12 patients of blood type O.                       \n",
    "There are no patients of blood type OO.\n"
   ]
  },
  {
   "cell_type": "code",
   "execution_count": 51,
   "id": "102abefb",
   "metadata": {},
   "outputs": [
    {
     "name": "stdout",
     "output_type": "stream",
     "text": [
      "There are 15 patients of blood type A.\n",
      "There is one patient of blood type B.\n",
      "There are 13 patients of blood type AB.\n",
      "There are 15 patients of blood type O.\n",
      "There are no patients of blood type OO.\n"
     ]
    }
   ],
   "source": [
    "def bldcount(inflie):\n",
    "    infile=open('bloodtype1.txt', 'r')\n",
    "    content= infile.read()\n",
    "    infile.close()\n",
    "    content=content.split()\n",
    "    bloodtype = ['A','B','AB','O','OO']\n",
    "    for i in bloodtype:\n",
    "        if content.count(i)==0:\n",
    "            print('There are no patients of blood type',i+'.')\n",
    "        elif content.count(i)==1:\n",
    "                print('There is one patient of blood type',i+'.')\n",
    "        else:print('There are',content.count(i),'patients of blood type', i+'.')\n",
    "bldcount('bloodtype1.txt')\n",
    "    "
   ]
  },
  {
   "cell_type": "markdown",
   "id": "94ed921d",
   "metadata": {},
   "source": [
    "### Question 8"
   ]
  },
  {
   "cell_type": "markdown",
   "id": "40c67f2e",
   "metadata": {},
   "source": [
    "Write a function curconv() that takes as input:\n",
    "1. a currency represented using a string (e.g., 'JPY' for the Japanese Yen or 'EUR' for the Euro)\n",
    "2. an amount and then converts and returns the amount in US dollars.\n",
    "\n",
    " curconv('EUR', 100)\n",
    " \n",
    "122.96544\n",
    "\n",
    " curconv('JPY', 100)\n",
    " \n",
    "1.241401\n",
    "\n",
    "The currency rates you will need are stored in file currencies.txt."
   ]
  },
  {
   "cell_type": "code",
   "execution_count": 22,
   "id": "f461847e",
   "metadata": {},
   "outputs": [],
   "source": [
    "def curconv(cur, amt):\n",
    "    exchange_value = {\n",
    "        'AUD': 1.0345157,            #Australian Dollar\n",
    "        'CHF': 1.0237414,            #Swiss Franc\n",
    "        'CNY': 0.1550176,            #Chinese Yuan\n",
    "        'DKK': 0.1651442,            #Danish Krone\n",
    "        'EUR': 1.2296544,            #Euro\n",
    "        'GBP': 1.5550989,            #British Pound\n",
    "        'HKD': 0.1270207,            #Hong Kong Dollar\n",
    "        'INR': 0.0177643,            #Indian Rupee\n",
    "        'JPY': 0.01241401,           #Japanese Yen\n",
    "        'MXN': 0.0751848,            #Mexican Peso\n",
    "        'MYR': 0.3145411,            #Malaysian Ringgit\n",
    "        'NOK': 0.1677063,            #Norwegian Krone\n",
    "        'NZD': 0.8003591,            #New Zealand Dollar\n",
    "        'PHP': 0.0233234,            #Philippine Peso\n",
    "        'SEK': 0.148269,             #Swedish Krona\n",
    "        'SGD': 0.788871,             #Singapore Dollar\n",
    "        'THB': 0.0313789,            #Thai Baht\n",
    "    }\n",
    "\n",
    "    if cur in exchange_value:\n",
    "        usd_amt = amt * exchange_value[cur]\n",
    "        return usd_amt\n",
    "    else:\n",
    "        return \"Currency not found\""
   ]
  },
  {
   "cell_type": "code",
   "execution_count": 23,
   "id": "f323291f",
   "metadata": {},
   "outputs": [
    {
     "data": {
      "text/plain": [
       "1.241401"
      ]
     },
     "execution_count": 23,
     "metadata": {},
     "output_type": "execute_result"
    }
   ],
   "source": [
    "curconv('JPY', 100)"
   ]
  },
  {
   "cell_type": "code",
   "execution_count": 24,
   "id": "9c7d0778",
   "metadata": {},
   "outputs": [
    {
     "data": {
      "text/plain": [
       "122.96544"
      ]
     },
     "execution_count": 24,
     "metadata": {},
     "output_type": "execute_result"
    }
   ],
   "source": [
    "curconv('EUR', 100)"
   ]
  },
  {
   "cell_type": "markdown",
   "id": "2bf27928",
   "metadata": {},
   "source": [
    "### Question 9"
   ]
  },
  {
   "cell_type": "markdown",
   "id": "ce5892a0",
   "metadata": {},
   "source": [
    "Each of the following will cause an exception (an error). Identify what type of exception each will cause.\n",
    "1. Trying to add incompatible variables, as in adding 6 + ‘a’"
   ]
  },
  {
   "cell_type": "code",
   "execution_count": 141,
   "id": "75a44bd7",
   "metadata": {},
   "outputs": [
    {
     "ename": "TypeError",
     "evalue": "unsupported operand type(s) for +: 'int' and 'str'",
     "output_type": "error",
     "traceback": [
      "\u001b[1;31m---------------------------------------------------------------------------\u001b[0m",
      "\u001b[1;31mTypeError\u001b[0m                                 Traceback (most recent call last)",
      "Cell \u001b[1;32mIn[141], line 1\u001b[0m\n\u001b[1;32m----> 1\u001b[0m \u001b[38;5;28mprint\u001b[39m(\u001b[38;5;241;43m6\u001b[39;49m\u001b[43m \u001b[49m\u001b[38;5;241;43m+\u001b[39;49m\u001b[43m \u001b[49m\u001b[38;5;124;43m'\u001b[39;49m\u001b[38;5;124;43ma\u001b[39;49m\u001b[38;5;124;43m'\u001b[39;49m)\n",
      "\u001b[1;31mTypeError\u001b[0m: unsupported operand type(s) for +: 'int' and 'str'"
     ]
    }
   ],
   "source": [
    "print(6 + 'a')"
   ]
  },
  {
   "cell_type": "markdown",
   "id": "29ecacb7",
   "metadata": {},
   "source": [
    "2. Referring to the 12th item of a list that has only 10 items"
   ]
  },
  {
   "cell_type": "code",
   "execution_count": 142,
   "id": "3a6d7ee4",
   "metadata": {},
   "outputs": [
    {
     "ename": "IndexError",
     "evalue": "list index out of range",
     "output_type": "error",
     "traceback": [
      "\u001b[1;31m---------------------------------------------------------------------------\u001b[0m",
      "\u001b[1;31mIndexError\u001b[0m                                Traceback (most recent call last)",
      "Cell \u001b[1;32mIn[142], line 2\u001b[0m\n\u001b[0;32m      1\u001b[0m lst\u001b[38;5;241m=\u001b[39m [\u001b[38;5;241m1\u001b[39m,\u001b[38;5;241m2\u001b[39m,\u001b[38;5;241m3\u001b[39m,\u001b[38;5;241m4\u001b[39m,\u001b[38;5;241m5\u001b[39m,\u001b[38;5;241m6\u001b[39m,\u001b[38;5;241m7\u001b[39m,\u001b[38;5;241m8\u001b[39m,\u001b[38;5;241m9\u001b[39m,\u001b[38;5;241m10\u001b[39m]\n\u001b[1;32m----> 2\u001b[0m \u001b[38;5;28mprint\u001b[39m(\u001b[43mlst\u001b[49m\u001b[43m[\u001b[49m\u001b[38;5;241;43m11\u001b[39;49m\u001b[43m]\u001b[49m)\n",
      "\u001b[1;31mIndexError\u001b[0m: list index out of range"
     ]
    }
   ],
   "source": [
    "lst= [1,2,3,4,5,6,7,8,9,10]\n",
    "print(lst[11])"
   ]
  },
  {
   "cell_type": "markdown",
   "id": "5ed855ba",
   "metadata": {},
   "source": [
    "3. Using a value that is out of range for a function’s input, such as calling math.sqrt(-1.0)\n"
   ]
  },
  {
   "cell_type": "code",
   "execution_count": 143,
   "id": "ee1b40a2",
   "metadata": {},
   "outputs": [
    {
     "ename": "ValueError",
     "evalue": "math domain error",
     "output_type": "error",
     "traceback": [
      "\u001b[1;31m---------------------------------------------------------------------------\u001b[0m",
      "\u001b[1;31mValueError\u001b[0m                                Traceback (most recent call last)",
      "Cell \u001b[1;32mIn[143], line 2\u001b[0m\n\u001b[0;32m      1\u001b[0m \u001b[38;5;28;01mimport\u001b[39;00m \u001b[38;5;21;01mmath\u001b[39;00m\n\u001b[1;32m----> 2\u001b[0m \u001b[38;5;28mprint\u001b[39m(\u001b[43mmath\u001b[49m\u001b[38;5;241;43m.\u001b[39;49m\u001b[43msqrt\u001b[49m\u001b[43m(\u001b[49m\u001b[38;5;241;43m-\u001b[39;49m\u001b[38;5;241;43m1.0\u001b[39;49m\u001b[43m)\u001b[49m)\n",
      "\u001b[1;31mValueError\u001b[0m: math domain error"
     ]
    }
   ],
   "source": [
    "import math\n",
    "print(math.sqrt(-1.0))"
   ]
  },
  {
   "cell_type": "markdown",
   "id": "68e2c4be",
   "metadata": {},
   "source": [
    "4. Using an undeclared variable, such as print(x) when x has not been defined "
   ]
  },
  {
   "cell_type": "code",
   "execution_count": 144,
   "id": "7387159b",
   "metadata": {},
   "outputs": [
    {
     "ename": "NameError",
     "evalue": "name 'x' is not defined",
     "output_type": "error",
     "traceback": [
      "\u001b[1;31m---------------------------------------------------------------------------\u001b[0m",
      "\u001b[1;31mNameError\u001b[0m                                 Traceback (most recent call last)",
      "Cell \u001b[1;32mIn[144], line 1\u001b[0m\n\u001b[1;32m----> 1\u001b[0m \u001b[38;5;28mprint\u001b[39m(\u001b[43mx\u001b[49m)\n",
      "\u001b[1;31mNameError\u001b[0m: name 'x' is not defined"
     ]
    }
   ],
   "source": [
    "print(x)"
   ]
  },
  {
   "cell_type": "markdown",
   "id": "4a782ece",
   "metadata": {},
   "source": [
    "5. Trying to open a file that does not exist, such as mistyping the file name or looking in the wrong directory. "
   ]
  },
  {
   "cell_type": "code",
   "execution_count": 145,
   "id": "76183d05",
   "metadata": {},
   "outputs": [
    {
     "ename": "FileNotFoundError",
     "evalue": "[Errno 2] No such file or directory: 'sample.txt'",
     "output_type": "error",
     "traceback": [
      "\u001b[1;31m---------------------------------------------------------------------------\u001b[0m",
      "\u001b[1;31mFileNotFoundError\u001b[0m                         Traceback (most recent call last)",
      "Cell \u001b[1;32mIn[145], line 1\u001b[0m\n\u001b[1;32m----> 1\u001b[0m infile \u001b[38;5;241m=\u001b[39m \u001b[38;5;28;43mopen\u001b[39;49m\u001b[43m(\u001b[49m\u001b[38;5;124;43m'\u001b[39;49m\u001b[38;5;124;43msample.txt\u001b[39;49m\u001b[38;5;124;43m'\u001b[39;49m\u001b[43m)\u001b[49m\n",
      "File \u001b[1;32m~\\anaconda3\\lib\\site-packages\\IPython\\core\\interactiveshell.py:282\u001b[0m, in \u001b[0;36m_modified_open\u001b[1;34m(file, *args, **kwargs)\u001b[0m\n\u001b[0;32m    275\u001b[0m \u001b[38;5;28;01mif\u001b[39;00m file \u001b[38;5;129;01min\u001b[39;00m {\u001b[38;5;241m0\u001b[39m, \u001b[38;5;241m1\u001b[39m, \u001b[38;5;241m2\u001b[39m}:\n\u001b[0;32m    276\u001b[0m     \u001b[38;5;28;01mraise\u001b[39;00m \u001b[38;5;167;01mValueError\u001b[39;00m(\n\u001b[0;32m    277\u001b[0m         \u001b[38;5;124mf\u001b[39m\u001b[38;5;124m\"\u001b[39m\u001b[38;5;124mIPython won\u001b[39m\u001b[38;5;124m'\u001b[39m\u001b[38;5;124mt let you open fd=\u001b[39m\u001b[38;5;132;01m{\u001b[39;00mfile\u001b[38;5;132;01m}\u001b[39;00m\u001b[38;5;124m by default \u001b[39m\u001b[38;5;124m\"\u001b[39m\n\u001b[0;32m    278\u001b[0m         \u001b[38;5;124m\"\u001b[39m\u001b[38;5;124mas it is likely to crash IPython. If you know what you are doing, \u001b[39m\u001b[38;5;124m\"\u001b[39m\n\u001b[0;32m    279\u001b[0m         \u001b[38;5;124m\"\u001b[39m\u001b[38;5;124myou can use builtins\u001b[39m\u001b[38;5;124m'\u001b[39m\u001b[38;5;124m open.\u001b[39m\u001b[38;5;124m\"\u001b[39m\n\u001b[0;32m    280\u001b[0m     )\n\u001b[1;32m--> 282\u001b[0m \u001b[38;5;28;01mreturn\u001b[39;00m io_open(file, \u001b[38;5;241m*\u001b[39margs, \u001b[38;5;241m*\u001b[39m\u001b[38;5;241m*\u001b[39mkwargs)\n",
      "\u001b[1;31mFileNotFoundError\u001b[0m: [Errno 2] No such file or directory: 'sample.txt'"
     ]
    }
   ],
   "source": [
    "infile = open('sample.txt')"
   ]
  },
  {
   "cell_type": "markdown",
   "id": "95a5f5b7",
   "metadata": {},
   "source": [
    "### Question 10"
   ]
  },
  {
   "cell_type": "markdown",
   "id": "24c3008a",
   "metadata": {},
   "source": [
    "Encryption is the process of hiding the meaning of a text by substituting letters in the message with other letters, according to some system. If the process is successful, no one but the intended recipient can understand the encrypted message. Cryptanalysis refers to attempts to undo the encryption, even if some details of the encryption are unknown (for example, if an encrypted message has been intercepted).The first step of cryptanalysis is often to build up a table of letter frequencies in the encrypted text.                     \n",
    "Assume that the string letters is already defined as 'abcdefghijklmnopqrstuvwxyz'. Write a function called frequencies() that takes a string as its only parameter, and returns a list of integers, showing the number of times each character appears in the text. Your function may ignore any characters that are not in letters. \n",
    "\n",
    "frequencies('The quick red fox got bored and went home.')\n",
    "\n",
    "[1, 1, 1, 3, 5, 1, 1, 2, 1, 0, 1, 0, 1, 2, 4, 0, 1, 2, 0, 2, \n",
    "1, 0, 1, 1, 0, 0]                                            \n",
    "frequencies('apple')"
   ]
  },
  {
   "cell_type": "code",
   "execution_count": 25,
   "id": "9fc6e926",
   "metadata": {},
   "outputs": [],
   "source": [
    "def frequencies(sentence):\n",
    "    letters = 'abcdefghijklmnopqrstuvwxyz'\n",
    "    flist = [0] * len(letters)  \n",
    "    for char in sentence.lower():\n",
    "        if char in letters:\n",
    "            index = letters.index(char)\n",
    "    return flist"
   ]
  },
  {
   "cell_type": "code",
   "execution_count": 26,
   "id": "bdebe4c9",
   "metadata": {},
   "outputs": [
    {
     "data": {
      "text/plain": [
       "[0, 0, 0, 0, 0, 0, 0, 0, 0, 0, 0, 0, 0, 0, 0, 0, 0, 0, 0, 0, 0, 0, 0, 0, 0, 0]"
      ]
     },
     "execution_count": 26,
     "metadata": {},
     "output_type": "execute_result"
    }
   ],
   "source": [
    "frequencies('apple')"
   ]
  },
  {
   "cell_type": "code",
   "execution_count": 27,
   "id": "068954ab",
   "metadata": {},
   "outputs": [
    {
     "data": {
      "text/plain": [
       "[0, 0, 0, 0, 0, 0, 0, 0, 0, 0, 0, 0, 0, 0, 0, 0, 0, 0, 0, 0, 0, 0, 0, 0, 0, 0]"
      ]
     },
     "execution_count": 27,
     "metadata": {},
     "output_type": "execute_result"
    }
   ],
   "source": [
    "frequencies('The quick red fox got bored and went home.')"
   ]
  }
 ],
 "metadata": {
  "kernelspec": {
   "display_name": "Python 3 (ipykernel)",
   "language": "python",
   "name": "python3"
  },
  "language_info": {
   "codemirror_mode": {
    "name": "ipython",
    "version": 3
   },
   "file_extension": ".py",
   "mimetype": "text/x-python",
   "name": "python",
   "nbconvert_exporter": "python",
   "pygments_lexer": "ipython3",
   "version": "3.11.3"
  }
 },
 "nbformat": 4,
 "nbformat_minor": 5
}
